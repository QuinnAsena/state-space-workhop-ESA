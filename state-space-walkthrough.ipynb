{
  "cells": [
    {
      "cell_type": "markdown",
      "metadata": {},
      "source": [
        "# Install packages {.unlisted .hidden}\n",
        "\n",
        "```{r}\n",
        "source(\"./install.r\")\n",
        "```"
      ]
    }
  ],
  "metadata": {
    "kernelspec": {
      "name": "python3",
      "language": "python",
      "display_name": "Python 3 (ipykernel)"
    }
  },
  "nbformat": 4,
  "nbformat_minor": 4
}